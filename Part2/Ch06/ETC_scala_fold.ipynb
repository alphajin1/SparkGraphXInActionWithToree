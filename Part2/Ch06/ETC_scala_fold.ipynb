{
 "cells": [
  {
   "cell_type": "code",
   "execution_count": 1,
   "metadata": {},
   "outputs": [
    {
     "data": {
      "text/plain": [
       "org.apache.spark.sql.SparkSession@3fa503ff"
      ]
     },
     "execution_count": 1,
     "metadata": {},
     "output_type": "execute_result"
    }
   ],
   "source": [
    "spark"
   ]
  },
  {
   "cell_type": "markdown",
   "metadata": {},
   "source": [
    "# Scala fold, foldLeft,and foldRight\n",
    "- https://coderwall.com/p/4l73-a/scala-fold-foldleft-and-foldright"
   ]
  },
  {
   "cell_type": "code",
   "execution_count": 4,
   "metadata": {},
   "outputs": [
    {
     "data": {
      "text/plain": [
       "numbers = List(5, 4, 8, 6, 2)\n"
      ]
     },
     "metadata": {},
     "output_type": "display_data",
     "source": "user"
    },
    {
     "data": {
      "text/plain": [
       "25"
      ]
     },
     "execution_count": 4,
     "metadata": {},
     "output_type": "execute_result"
    }
   ],
   "source": [
    "val numbers = List(5, 4, 8, 6, 2)\n",
    "numbers.fold(0) { (a, i) =>\n",
    "  a + i\n",
    "}\n",
    "\n",
    "// fold arguments : start value, function"
   ]
  },
  {
   "cell_type": "code",
   "execution_count": 11,
   "metadata": {},
   "outputs": [
    {
     "data": {
      "text/plain": [
       "defined class Foo\n",
       "defined object Foo\n",
       "fooList = List(Foo@567ccb, Foo@8418915, Foo@778fb3cc)\n",
       "stringList = List(Mr. Hugh Jass, 25, Mr. Biggus Dickus, 43, Ms. Incontinentia Buttocks, 37)\n"
      ]
     },
     "metadata": {},
     "output_type": "display_data",
     "source": "user"
    },
    {
     "data": {
      "text/plain": [
       "List(Mr. Hugh Jass, 25, Mr. Biggus Dickus, 43, Ms. Incontinentia Buttocks, 37)"
      ]
     },
     "execution_count": 11,
     "metadata": {},
     "output_type": "execute_result"
    }
   ],
   "source": [
    "class Foo(val name: String, val age: Int, val sex: Symbol)\n",
    "\n",
    "object Foo {\n",
    "  def apply(name: String, age: Int, sex: Symbol) = new Foo(name, age, sex)\n",
    "}\n",
    "\n",
    "val fooList = Foo(\"Hugh Jass\", 25, 'male) ::\n",
    "              Foo(\"Biggus Dickus\", 43, 'male) ::\n",
    "              Foo(\"Incontinentia Buttocks\", 37, 'female) ::\n",
    "              Nil\n",
    "\n",
    "val stringList = fooList.foldLeft(List[String]()) { (z, f) =>\n",
    "  val title = f.sex match {\n",
    "    case 'male => \"Mr.\"\n",
    "    case 'female => \"Ms.\"\n",
    "  }\n",
    "  z :+ s\"$title ${f.name}, ${f.age}\"\n",
    "}\n",
    "\n",
    "// Ordering이 필요하면, foldLeft, foldRight 사용할 것"
   ]
  },
  {
   "cell_type": "code",
   "execution_count": 10,
   "metadata": {},
   "outputs": [
    {
     "data": {
      "text/plain": [
       "stringList = List(Ms. Incontinentia Buttocks, 37, Mr. Biggus Dickus, 43, Mr. Hugh Jass, 25)\n"
      ]
     },
     "metadata": {},
     "output_type": "display_data",
     "source": "user"
    },
    {
     "data": {
      "text/plain": [
       "List(Ms. Incontinentia Buttocks, 37, Mr. Biggus Dickus, 43, Mr. Hugh Jass, 25)"
      ]
     },
     "execution_count": 10,
     "metadata": {},
     "output_type": "execute_result"
    }
   ],
   "source": [
    "val stringList = fooList.foldRight(List[String]()) { (f, z) =>\n",
    "  val title = f.sex match {\n",
    "    case 'male => \"Mr.\"\n",
    "    case 'female => \"Ms.\"\n",
    "  }\n",
    "  z :+ s\"$title ${f.name}, ${f.age}\"\n",
    "}"
   ]
  },
  {
   "cell_type": "code",
   "execution_count": null,
   "metadata": {},
   "outputs": [],
   "source": []
  }
 ],
 "metadata": {
  "kernelspec": {
   "display_name": "Apache Toree - Scala",
   "language": "scala",
   "name": "apache_toree_scala"
  },
  "language_info": {
   "codemirror_mode": "text/x-scala",
   "file_extension": ".scala",
   "mimetype": "text/x-scala",
   "name": "scala",
   "pygments_lexer": "scala",
   "version": "2.11.12"
  }
 },
 "nbformat": 4,
 "nbformat_minor": 4
}
